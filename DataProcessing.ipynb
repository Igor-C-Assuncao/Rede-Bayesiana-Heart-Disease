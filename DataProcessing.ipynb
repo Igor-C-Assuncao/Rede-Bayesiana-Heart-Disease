{
 "cells": [
  {
   "cell_type": "markdown",
   "metadata": {},
   "source": [
    "## Coletando Dados"
   ]
  },
  {
   "cell_type": "code",
   "execution_count": null,
   "metadata": {},
   "outputs": [
    {
     "name": "stdout",
     "output_type": "stream",
     "text": [
      "    age  sex   cp  trestbps   chol  fbs  restecg  thalach  exang  oldpeak  \\\n",
      "0  63.0  1.0  1.0     145.0  233.0  1.0      2.0    150.0    0.0      2.3   \n",
      "1  67.0  1.0  4.0     160.0  286.0  0.0      2.0    108.0    1.0      1.5   \n",
      "2  67.0  1.0  4.0     120.0  229.0  0.0      2.0    129.0    1.0      2.6   \n",
      "3  37.0  1.0  3.0     130.0  250.0  0.0      0.0    187.0    0.0      3.5   \n",
      "4  41.0  0.0  2.0     130.0  204.0  0.0      2.0    172.0    0.0      1.4   \n",
      "\n",
      "   slope   ca thal  target  \n",
      "0    3.0  0.0  6.0       0  \n",
      "1    2.0  3.0  3.0       2  \n",
      "2    2.0  2.0  7.0       1  \n",
      "3    3.0  0.0  3.0       0  \n",
      "4    1.0  0.0  3.0       0  \n"
     ]
    }
   ],
   "source": [
    "import pandas as pd\n",
    "\n",
    "# Carregar o Heart Disease Dataset\n",
    "url = \"https://archive.ics.uci.edu/ml/machine-learning-databases/heart-disease/processed.cleveland.data\"\n",
    "columns = [\"age\", \"sex\", \"cp\", \"trestbps\", \"chol\", \"fbs\", \"restecg\", \"thalach\", \"exang\", \"oldpeak\", \"slope\", \"ca\", \"thal\", \"target\"]\n",
    "data = pd.read_csv(url, names=columns)\n",
    "\n",
    "\n",
    "print(data.head())"
   ]
  },
  {
   "cell_type": "code",
   "execution_count": null,
   "metadata": {},
   "outputs": [],
   "source": [
    "ata = data.replace('?', pd.NA).dropna().astype(float)\n",
    "\n",
    "# Transformando em variáveis contínuas\n",
    "data['age'] = pd.cut(data['age'], bins=[0, 40, 55, 65, 100], labels=['Jovem', 'Meia-idade', 'Idoso', 'Muito idoso'])\n",
    "data['trestbps'] = pd.cut(data['trestbps'], bins=[0, 120, 140, 200], labels=['Normal', 'Elevada', 'Alta'])\n",
    "data['chol'] = pd.cut(data['chol'], bins=[0, 200, 240, 600], labels=['Ideal', 'Limítrofe', 'Alto'])\n",
    "data['thalach'] = pd.cut(data['thalach'], bins=[0, 120, 160, 220], labels=['Baixa', 'Moderada', 'Alta'])\n",
    "data['target'] = data['target'].apply(lambda x: 'Doença' if x > 0 else 'Saudável')"
   ]
  },
  {
   "cell_type": "code",
   "execution_count": null,
   "metadata": {},
   "outputs": [],
   "source": []
  }
 ],
 "metadata": {
  "kernelspec": {
   "display_name": "Python 3",
   "language": "python",
   "name": "python3"
  },
  "language_info": {
   "codemirror_mode": {
    "name": "ipython",
    "version": 3
   },
   "file_extension": ".py",
   "mimetype": "text/x-python",
   "name": "python",
   "nbconvert_exporter": "python",
   "pygments_lexer": "ipython3",
   "version": "3.12.2"
  }
 },
 "nbformat": 4,
 "nbformat_minor": 2
}
